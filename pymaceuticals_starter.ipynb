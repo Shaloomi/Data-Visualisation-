{
 "cells": [
  {
   "cell_type": "markdown",
   "metadata": {},
   "source": [
    "## Observations and Insights "
   ]
  },
  {
   "cell_type": "code",
   "execution_count": 1,
   "metadata": {},
   "outputs": [
    {
     "data": {
      "text/html": [
       "<div>\n",
       "<style scoped>\n",
       "    .dataframe tbody tr th:only-of-type {\n",
       "        vertical-align: middle;\n",
       "    }\n",
       "\n",
       "    .dataframe tbody tr th {\n",
       "        vertical-align: top;\n",
       "    }\n",
       "\n",
       "    .dataframe thead th {\n",
       "        text-align: right;\n",
       "    }\n",
       "</style>\n",
       "<table border=\"1\" class=\"dataframe\">\n",
       "  <thead>\n",
       "    <tr style=\"text-align: right;\">\n",
       "      <th></th>\n",
       "      <th>Mouse ID</th>\n",
       "      <th>Timepoint</th>\n",
       "      <th>Tumour Volume (mm3)</th>\n",
       "      <th>Metastatic Sites</th>\n",
       "      <th>Drug Regimen</th>\n",
       "      <th>Sex</th>\n",
       "      <th>Age (months)</th>\n",
       "      <th>Weight (g)</th>\n",
       "    </tr>\n",
       "  </thead>\n",
       "  <tbody>\n",
       "    <tr>\n",
       "      <th>0</th>\n",
       "      <td>b128</td>\n",
       "      <td>0</td>\n",
       "      <td>45.000000</td>\n",
       "      <td>0</td>\n",
       "      <td>Capomulin</td>\n",
       "      <td>Female</td>\n",
       "      <td>9</td>\n",
       "      <td>22</td>\n",
       "    </tr>\n",
       "    <tr>\n",
       "      <th>1</th>\n",
       "      <td>b128</td>\n",
       "      <td>5</td>\n",
       "      <td>45.651331</td>\n",
       "      <td>0</td>\n",
       "      <td>Capomulin</td>\n",
       "      <td>Female</td>\n",
       "      <td>9</td>\n",
       "      <td>22</td>\n",
       "    </tr>\n",
       "    <tr>\n",
       "      <th>2</th>\n",
       "      <td>b128</td>\n",
       "      <td>10</td>\n",
       "      <td>43.270852</td>\n",
       "      <td>0</td>\n",
       "      <td>Capomulin</td>\n",
       "      <td>Female</td>\n",
       "      <td>9</td>\n",
       "      <td>22</td>\n",
       "    </tr>\n",
       "    <tr>\n",
       "      <th>3</th>\n",
       "      <td>b128</td>\n",
       "      <td>15</td>\n",
       "      <td>43.784893</td>\n",
       "      <td>0</td>\n",
       "      <td>Capomulin</td>\n",
       "      <td>Female</td>\n",
       "      <td>9</td>\n",
       "      <td>22</td>\n",
       "    </tr>\n",
       "    <tr>\n",
       "      <th>4</th>\n",
       "      <td>b128</td>\n",
       "      <td>20</td>\n",
       "      <td>42.731552</td>\n",
       "      <td>0</td>\n",
       "      <td>Capomulin</td>\n",
       "      <td>Female</td>\n",
       "      <td>9</td>\n",
       "      <td>22</td>\n",
       "    </tr>\n",
       "  </tbody>\n",
       "</table>\n",
       "</div>"
      ],
      "text/plain": [
       "  Mouse ID  Timepoint  Tumour Volume (mm3)  Metastatic Sites Drug Regimen  \\\n",
       "0     b128          0            45.000000                 0    Capomulin   \n",
       "1     b128          5            45.651331                 0    Capomulin   \n",
       "2     b128         10            43.270852                 0    Capomulin   \n",
       "3     b128         15            43.784893                 0    Capomulin   \n",
       "4     b128         20            42.731552                 0    Capomulin   \n",
       "\n",
       "      Sex  Age (months)  Weight (g)  \n",
       "0  Female             9          22  \n",
       "1  Female             9          22  \n",
       "2  Female             9          22  \n",
       "3  Female             9          22  \n",
       "4  Female             9          22  "
      ]
     },
     "execution_count": 1,
     "metadata": {},
     "output_type": "execute_result"
    }
   ],
   "source": [
    "# Dependencies and Setup\n",
    "import matplotlib.pyplot as plt\n",
    "import pandas as pd\n",
    "import scipy.stats as st\n",
    "import numpy as np\n",
    "# Study data files\n",
    "mouse_metadata_path = \"data/Mouse_metadata.csv\"\n",
    "study_results_path = \"data/Study_results.csv\"\n",
    "\n",
    "# Read the mouse data and the study results\n",
    "mouse_metadata = pd.read_csv(mouse_metadata_path)\n",
    "study_results = pd.read_csv(study_results_path)\n",
    "\n",
    "# Combine the data into a single dataset\n",
    "merged_data_df = pd.merge(study_results, mouse_metadata, how='outer', on=['Mouse ID', 'Mouse ID'])\n",
    "\n",
    "# Modify header\n",
    "merged_data_df = merged_data_df.rename(columns={'Age_months': 'Age (months)'})\n",
    "\n",
    "# Display the data table for preview\n",
    "merged_data_df.head()\n"
   ]
  },
  {
   "cell_type": "code",
   "execution_count": 2,
   "metadata": {},
   "outputs": [
    {
     "name": "stdout",
     "output_type": "stream",
     "text": [
      "Number of mice in all the treatment regimens is: 249\n"
     ]
    }
   ],
   "source": [
    "# Checking the number of mice.\n",
    "total_mice = len(merged_data_df['Mouse ID'].unique())\n",
    "print(f'Number of mice in all the treatment regimens is: {total_mice}')"
   ]
  },
  {
   "cell_type": "code",
   "execution_count": 3,
   "metadata": {},
   "outputs": [
    {
     "data": {
      "text/html": [
       "<div>\n",
       "<style scoped>\n",
       "    .dataframe tbody tr th:only-of-type {\n",
       "        vertical-align: middle;\n",
       "    }\n",
       "\n",
       "    .dataframe tbody tr th {\n",
       "        vertical-align: top;\n",
       "    }\n",
       "\n",
       "    .dataframe thead th {\n",
       "        text-align: right;\n",
       "    }\n",
       "</style>\n",
       "<table border=\"1\" class=\"dataframe\">\n",
       "  <thead>\n",
       "    <tr style=\"text-align: right;\">\n",
       "      <th></th>\n",
       "      <th>Mouse ID</th>\n",
       "      <th>Timepoint</th>\n",
       "      <th>Tumour Volume (mm3)</th>\n",
       "      <th>Metastatic Sites</th>\n",
       "      <th>Drug Regimen</th>\n",
       "      <th>Sex</th>\n",
       "      <th>Age (months)</th>\n",
       "      <th>Weight (g)</th>\n",
       "    </tr>\n",
       "  </thead>\n",
       "  <tbody>\n",
       "    <tr>\n",
       "      <th>860</th>\n",
       "      <td>g989</td>\n",
       "      <td>0</td>\n",
       "      <td>45.000000</td>\n",
       "      <td>0</td>\n",
       "      <td>Propriva</td>\n",
       "      <td>Female</td>\n",
       "      <td>21</td>\n",
       "      <td>26</td>\n",
       "    </tr>\n",
       "    <tr>\n",
       "      <th>861</th>\n",
       "      <td>g989</td>\n",
       "      <td>0</td>\n",
       "      <td>45.000000</td>\n",
       "      <td>0</td>\n",
       "      <td>Propriva</td>\n",
       "      <td>Female</td>\n",
       "      <td>21</td>\n",
       "      <td>26</td>\n",
       "    </tr>\n",
       "    <tr>\n",
       "      <th>862</th>\n",
       "      <td>g989</td>\n",
       "      <td>5</td>\n",
       "      <td>48.786801</td>\n",
       "      <td>0</td>\n",
       "      <td>Propriva</td>\n",
       "      <td>Female</td>\n",
       "      <td>21</td>\n",
       "      <td>26</td>\n",
       "    </tr>\n",
       "    <tr>\n",
       "      <th>863</th>\n",
       "      <td>g989</td>\n",
       "      <td>5</td>\n",
       "      <td>47.570392</td>\n",
       "      <td>0</td>\n",
       "      <td>Propriva</td>\n",
       "      <td>Female</td>\n",
       "      <td>21</td>\n",
       "      <td>26</td>\n",
       "    </tr>\n",
       "    <tr>\n",
       "      <th>864</th>\n",
       "      <td>g989</td>\n",
       "      <td>10</td>\n",
       "      <td>51.745156</td>\n",
       "      <td>0</td>\n",
       "      <td>Propriva</td>\n",
       "      <td>Female</td>\n",
       "      <td>21</td>\n",
       "      <td>26</td>\n",
       "    </tr>\n",
       "    <tr>\n",
       "      <th>865</th>\n",
       "      <td>g989</td>\n",
       "      <td>10</td>\n",
       "      <td>49.880528</td>\n",
       "      <td>0</td>\n",
       "      <td>Propriva</td>\n",
       "      <td>Female</td>\n",
       "      <td>21</td>\n",
       "      <td>26</td>\n",
       "    </tr>\n",
       "    <tr>\n",
       "      <th>866</th>\n",
       "      <td>g989</td>\n",
       "      <td>15</td>\n",
       "      <td>51.325852</td>\n",
       "      <td>1</td>\n",
       "      <td>Propriva</td>\n",
       "      <td>Female</td>\n",
       "      <td>21</td>\n",
       "      <td>26</td>\n",
       "    </tr>\n",
       "    <tr>\n",
       "      <th>867</th>\n",
       "      <td>g989</td>\n",
       "      <td>15</td>\n",
       "      <td>53.442020</td>\n",
       "      <td>0</td>\n",
       "      <td>Propriva</td>\n",
       "      <td>Female</td>\n",
       "      <td>21</td>\n",
       "      <td>26</td>\n",
       "    </tr>\n",
       "    <tr>\n",
       "      <th>868</th>\n",
       "      <td>g989</td>\n",
       "      <td>20</td>\n",
       "      <td>55.326122</td>\n",
       "      <td>1</td>\n",
       "      <td>Propriva</td>\n",
       "      <td>Female</td>\n",
       "      <td>21</td>\n",
       "      <td>26</td>\n",
       "    </tr>\n",
       "    <tr>\n",
       "      <th>869</th>\n",
       "      <td>g989</td>\n",
       "      <td>20</td>\n",
       "      <td>54.657650</td>\n",
       "      <td>1</td>\n",
       "      <td>Propriva</td>\n",
       "      <td>Female</td>\n",
       "      <td>21</td>\n",
       "      <td>26</td>\n",
       "    </tr>\n",
       "    <tr>\n",
       "      <th>870</th>\n",
       "      <td>g989</td>\n",
       "      <td>25</td>\n",
       "      <td>56.045564</td>\n",
       "      <td>1</td>\n",
       "      <td>Propriva</td>\n",
       "      <td>Female</td>\n",
       "      <td>21</td>\n",
       "      <td>26</td>\n",
       "    </tr>\n",
       "    <tr>\n",
       "      <th>871</th>\n",
       "      <td>g989</td>\n",
       "      <td>30</td>\n",
       "      <td>59.082294</td>\n",
       "      <td>1</td>\n",
       "      <td>Propriva</td>\n",
       "      <td>Female</td>\n",
       "      <td>21</td>\n",
       "      <td>26</td>\n",
       "    </tr>\n",
       "    <tr>\n",
       "      <th>872</th>\n",
       "      <td>g989</td>\n",
       "      <td>35</td>\n",
       "      <td>62.570880</td>\n",
       "      <td>2</td>\n",
       "      <td>Propriva</td>\n",
       "      <td>Female</td>\n",
       "      <td>21</td>\n",
       "      <td>26</td>\n",
       "    </tr>\n",
       "  </tbody>\n",
       "</table>\n",
       "</div>"
      ],
      "text/plain": [
       "    Mouse ID  Timepoint  Tumour Volume (mm3)  Metastatic Sites Drug Regimen  \\\n",
       "860     g989          0            45.000000                 0     Propriva   \n",
       "861     g989          0            45.000000                 0     Propriva   \n",
       "862     g989          5            48.786801                 0     Propriva   \n",
       "863     g989          5            47.570392                 0     Propriva   \n",
       "864     g989         10            51.745156                 0     Propriva   \n",
       "865     g989         10            49.880528                 0     Propriva   \n",
       "866     g989         15            51.325852                 1     Propriva   \n",
       "867     g989         15            53.442020                 0     Propriva   \n",
       "868     g989         20            55.326122                 1     Propriva   \n",
       "869     g989         20            54.657650                 1     Propriva   \n",
       "870     g989         25            56.045564                 1     Propriva   \n",
       "871     g989         30            59.082294                 1     Propriva   \n",
       "872     g989         35            62.570880                 2     Propriva   \n",
       "\n",
       "        Sex  Age (months)  Weight (g)  \n",
       "860  Female            21          26  \n",
       "861  Female            21          26  \n",
       "862  Female            21          26  \n",
       "863  Female            21          26  \n",
       "864  Female            21          26  \n",
       "865  Female            21          26  \n",
       "866  Female            21          26  \n",
       "867  Female            21          26  \n",
       "868  Female            21          26  \n",
       "869  Female            21          26  \n",
       "870  Female            21          26  \n",
       "871  Female            21          26  \n",
       "872  Female            21          26  "
      ]
     },
     "execution_count": 3,
     "metadata": {},
     "output_type": "execute_result"
    }
   ],
   "source": [
    "# Getting the duplicate mice by ID number that shows up for Mouse ID and Timepoint. \n",
    "duplicated_mice = merged_data_df.duplicated(subset=['Mouse ID', 'Timepoint'], keep=False)\n",
    "\n",
    "# Locate all the duplicated mice and return Mouse ID\n",
    "duplicated_mice_ID = merged_data_df.loc[duplicated_mice, 'Mouse ID'].unique()\n",
    "\n",
    "# Optional: Get all the data for the duplicate mouse ID.  \n",
    "duplicated_mice_ID_data = merged_data_df.loc[merged_data_df['Mouse ID'] == duplicated_mice_ID[0]]\n",
    "duplicated_mice_ID_data"
   ]
  },
  {
   "cell_type": "code",
   "execution_count": 4,
   "metadata": {},
   "outputs": [
    {
     "name": "stdout",
     "output_type": "stream",
     "text": [
      "Number of mice in all the treatment regimens is: 248 (removed duplicated mice data)\n"
     ]
    }
   ],
   "source": [
    "# Create a clean DataFrame by dropping the duplicate mouse by its ID.\n",
    "analysis_data_df = merged_data_df.drop(duplicated_mice_ID_data.index)\n",
    "\n",
    "# Store analysis starting data file\n",
    "analysis_data_df.to_csv('data/analysis_data.csv', index=False, header=True)\n",
    "\n",
    "# Checking the number of mice in the clean DataFrame.\n",
    "no_mice_analysis = len(analysis_data_df['Mouse ID'].unique())\n",
    "print(f'Number of mice in all the treatment regimens is: {no_mice_analysis} (removed duplicated mice data)')"
   ]
  },
  {
   "cell_type": "markdown",
   "metadata": {},
   "source": [
    "## Summary Statistics"
   ]
  },
  {
   "cell_type": "code",
   "execution_count": 5,
   "metadata": {},
   "outputs": [],
   "source": [
    "# Generate a summary statistics table of mean, median, variance, standard deviation, and SEM of the tumour volume for each regimen\n",
    "\n",
    "# Use groupby and summary statistical methods to calculate the following properties of each drug regimen: \n",
    "# mean, median, variance, standard deviation, and SEM of the tumour volume. \n",
    "# Assemble the resulting series into a single summary dataframe.\n",
    "\n"
   ]
  },
  {
   "cell_type": "code",
   "execution_count": 6,
   "metadata": {},
   "outputs": [],
   "source": [
    "# Creat a grouped dataframe by Drug Regimen\n",
    "drug_regimen_gp = analysis_data_df.groupby('Drug Regimen')"
   ]
  },
  {
   "cell_type": "code",
   "execution_count": 7,
   "metadata": {},
   "outputs": [
    {
     "name": "stdout",
     "output_type": "stream",
     "text": [
      "Method I\n"
     ]
    },
    {
     "data": {
      "text/html": [
       "<div>\n",
       "<style scoped>\n",
       "    .dataframe tbody tr th:only-of-type {\n",
       "        vertical-align: middle;\n",
       "    }\n",
       "\n",
       "    .dataframe tbody tr th {\n",
       "        vertical-align: top;\n",
       "    }\n",
       "\n",
       "    .dataframe thead th {\n",
       "        text-align: right;\n",
       "    }\n",
       "</style>\n",
       "<table border=\"1\" class=\"dataframe\">\n",
       "  <thead>\n",
       "    <tr style=\"text-align: right;\">\n",
       "      <th></th>\n",
       "      <th>Mean</th>\n",
       "      <th>Median</th>\n",
       "      <th>Variance</th>\n",
       "      <th>Standard deviation</th>\n",
       "      <th>SEM</th>\n",
       "    </tr>\n",
       "    <tr>\n",
       "      <th>Drug Regimen</th>\n",
       "      <th></th>\n",
       "      <th></th>\n",
       "      <th></th>\n",
       "      <th></th>\n",
       "      <th></th>\n",
       "    </tr>\n",
       "  </thead>\n",
       "  <tbody>\n",
       "    <tr>\n",
       "      <th>Capomulin</th>\n",
       "      <td>40.675741</td>\n",
       "      <td>41.557809</td>\n",
       "      <td>24.947764</td>\n",
       "      <td>4.994774</td>\n",
       "      <td>0.329346</td>\n",
       "    </tr>\n",
       "    <tr>\n",
       "      <th>Ceftamin</th>\n",
       "      <td>52.591172</td>\n",
       "      <td>51.776157</td>\n",
       "      <td>39.290177</td>\n",
       "      <td>6.268188</td>\n",
       "      <td>0.469821</td>\n",
       "    </tr>\n",
       "    <tr>\n",
       "      <th>Infubinol</th>\n",
       "      <td>52.884795</td>\n",
       "      <td>51.820584</td>\n",
       "      <td>43.128684</td>\n",
       "      <td>6.567243</td>\n",
       "      <td>0.492236</td>\n",
       "    </tr>\n",
       "    <tr>\n",
       "      <th>Ketapril</th>\n",
       "      <td>55.235638</td>\n",
       "      <td>53.698743</td>\n",
       "      <td>68.553577</td>\n",
       "      <td>8.279709</td>\n",
       "      <td>0.603860</td>\n",
       "    </tr>\n",
       "    <tr>\n",
       "      <th>Naftisol</th>\n",
       "      <td>54.331565</td>\n",
       "      <td>52.509285</td>\n",
       "      <td>66.173479</td>\n",
       "      <td>8.134708</td>\n",
       "      <td>0.596466</td>\n",
       "    </tr>\n",
       "    <tr>\n",
       "      <th>Placebo</th>\n",
       "      <td>54.033581</td>\n",
       "      <td>52.288934</td>\n",
       "      <td>61.168083</td>\n",
       "      <td>7.821003</td>\n",
       "      <td>0.581331</td>\n",
       "    </tr>\n",
       "    <tr>\n",
       "      <th>Propriva</th>\n",
       "      <td>52.320930</td>\n",
       "      <td>50.446266</td>\n",
       "      <td>43.852013</td>\n",
       "      <td>6.622085</td>\n",
       "      <td>0.544332</td>\n",
       "    </tr>\n",
       "    <tr>\n",
       "      <th>Ramicane</th>\n",
       "      <td>40.216745</td>\n",
       "      <td>40.673236</td>\n",
       "      <td>23.486704</td>\n",
       "      <td>4.846308</td>\n",
       "      <td>0.320955</td>\n",
       "    </tr>\n",
       "    <tr>\n",
       "      <th>Stelasyn</th>\n",
       "      <td>54.233149</td>\n",
       "      <td>52.431737</td>\n",
       "      <td>59.450562</td>\n",
       "      <td>7.710419</td>\n",
       "      <td>0.573111</td>\n",
       "    </tr>\n",
       "    <tr>\n",
       "      <th>Zoniferol</th>\n",
       "      <td>53.236507</td>\n",
       "      <td>51.818479</td>\n",
       "      <td>48.533355</td>\n",
       "      <td>6.966589</td>\n",
       "      <td>0.516398</td>\n",
       "    </tr>\n",
       "  </tbody>\n",
       "</table>\n",
       "</div>"
      ],
      "text/plain": [
       "                   Mean     Median   Variance  Standard deviation       SEM\n",
       "Drug Regimen                                                               \n",
       "Capomulin     40.675741  41.557809  24.947764            4.994774  0.329346\n",
       "Ceftamin      52.591172  51.776157  39.290177            6.268188  0.469821\n",
       "Infubinol     52.884795  51.820584  43.128684            6.567243  0.492236\n",
       "Ketapril      55.235638  53.698743  68.553577            8.279709  0.603860\n",
       "Naftisol      54.331565  52.509285  66.173479            8.134708  0.596466\n",
       "Placebo       54.033581  52.288934  61.168083            7.821003  0.581331\n",
       "Propriva      52.320930  50.446266  43.852013            6.622085  0.544332\n",
       "Ramicane      40.216745  40.673236  23.486704            4.846308  0.320955\n",
       "Stelasyn      54.233149  52.431737  59.450562            7.710419  0.573111\n",
       "Zoniferol     53.236507  51.818479  48.533355            6.966589  0.516398"
      ]
     },
     "execution_count": 7,
     "metadata": {},
     "output_type": "execute_result"
    }
   ],
   "source": [
    "# Mean\n",
    "mean = drug_regimen_gp['Tumour Volume (mm3)'].mean()\n",
    "\n",
    "# Median\n",
    "median = drug_regimen_gp['Tumour Volume (mm3)'].median()\n",
    "\n",
    "# Variance \n",
    "var = drug_regimen_gp['Tumour Volume (mm3)'].var()\n",
    "\n",
    "# Standard deviation\n",
    "std = drug_regimen_gp['Tumour Volume (mm3)'].std()\n",
    "\n",
    "# SEM: return unbiased stardard error of mean \n",
    "sem = drug_regimen_gp['Tumour Volume (mm3)'].sem()\n",
    "\n",
    "# Combine all statistics computation together\n",
    "summary_statistics_df = pd.DataFrame({\n",
    "    'Mean': mean,\n",
    "    'Median': median,\n",
    "    'Variance': var,\n",
    "    'Standard deviation': std,\n",
    "    'SEM': sem\n",
    "})\n",
    "\n",
    "# Present Summary Statistics\n",
    "print('Method I')\n",
    "summary_statistics_df"
   ]
  },
  {
   "cell_type": "code",
   "execution_count": 8,
   "metadata": {},
   "outputs": [],
   "source": [
    "# Generate a summary statistics table of mean, median, variance, standard deviation, and SEM of the tumour volume for each regimen\n",
    "\n",
    "# Using the aggregation method, produce the same summary statistics in a single line\n"
   ]
  },
  {
   "cell_type": "code",
   "execution_count": 9,
   "metadata": {},
   "outputs": [
    {
     "name": "stdout",
     "output_type": "stream",
     "text": [
      "Method II\n"
     ]
    },
    {
     "data": {
      "text/html": [
       "<div>\n",
       "<style scoped>\n",
       "    .dataframe tbody tr th:only-of-type {\n",
       "        vertical-align: middle;\n",
       "    }\n",
       "\n",
       "    .dataframe tbody tr th {\n",
       "        vertical-align: top;\n",
       "    }\n",
       "\n",
       "    .dataframe thead th {\n",
       "        text-align: right;\n",
       "    }\n",
       "</style>\n",
       "<table border=\"1\" class=\"dataframe\">\n",
       "  <thead>\n",
       "    <tr style=\"text-align: right;\">\n",
       "      <th></th>\n",
       "      <th>Mean</th>\n",
       "      <th>Median</th>\n",
       "      <th>Variance</th>\n",
       "      <th>Standard deviation</th>\n",
       "      <th>SEM</th>\n",
       "    </tr>\n",
       "    <tr>\n",
       "      <th>Drug Regimen</th>\n",
       "      <th></th>\n",
       "      <th></th>\n",
       "      <th></th>\n",
       "      <th></th>\n",
       "      <th></th>\n",
       "    </tr>\n",
       "  </thead>\n",
       "  <tbody>\n",
       "    <tr>\n",
       "      <th>Capomulin</th>\n",
       "      <td>40.675741</td>\n",
       "      <td>41.557809</td>\n",
       "      <td>24.947764</td>\n",
       "      <td>4.994774</td>\n",
       "      <td>0.329346</td>\n",
       "    </tr>\n",
       "    <tr>\n",
       "      <th>Ceftamin</th>\n",
       "      <td>52.591172</td>\n",
       "      <td>51.776157</td>\n",
       "      <td>39.290177</td>\n",
       "      <td>6.268188</td>\n",
       "      <td>0.469821</td>\n",
       "    </tr>\n",
       "    <tr>\n",
       "      <th>Infubinol</th>\n",
       "      <td>52.884795</td>\n",
       "      <td>51.820584</td>\n",
       "      <td>43.128684</td>\n",
       "      <td>6.567243</td>\n",
       "      <td>0.492236</td>\n",
       "    </tr>\n",
       "    <tr>\n",
       "      <th>Ketapril</th>\n",
       "      <td>55.235638</td>\n",
       "      <td>53.698743</td>\n",
       "      <td>68.553577</td>\n",
       "      <td>8.279709</td>\n",
       "      <td>0.603860</td>\n",
       "    </tr>\n",
       "    <tr>\n",
       "      <th>Naftisol</th>\n",
       "      <td>54.331565</td>\n",
       "      <td>52.509285</td>\n",
       "      <td>66.173479</td>\n",
       "      <td>8.134708</td>\n",
       "      <td>0.596466</td>\n",
       "    </tr>\n",
       "    <tr>\n",
       "      <th>Placebo</th>\n",
       "      <td>54.033581</td>\n",
       "      <td>52.288934</td>\n",
       "      <td>61.168083</td>\n",
       "      <td>7.821003</td>\n",
       "      <td>0.581331</td>\n",
       "    </tr>\n",
       "    <tr>\n",
       "      <th>Propriva</th>\n",
       "      <td>52.320930</td>\n",
       "      <td>50.446266</td>\n",
       "      <td>43.852013</td>\n",
       "      <td>6.622085</td>\n",
       "      <td>0.544332</td>\n",
       "    </tr>\n",
       "    <tr>\n",
       "      <th>Ramicane</th>\n",
       "      <td>40.216745</td>\n",
       "      <td>40.673236</td>\n",
       "      <td>23.486704</td>\n",
       "      <td>4.846308</td>\n",
       "      <td>0.320955</td>\n",
       "    </tr>\n",
       "    <tr>\n",
       "      <th>Stelasyn</th>\n",
       "      <td>54.233149</td>\n",
       "      <td>52.431737</td>\n",
       "      <td>59.450562</td>\n",
       "      <td>7.710419</td>\n",
       "      <td>0.573111</td>\n",
       "    </tr>\n",
       "    <tr>\n",
       "      <th>Zoniferol</th>\n",
       "      <td>53.236507</td>\n",
       "      <td>51.818479</td>\n",
       "      <td>48.533355</td>\n",
       "      <td>6.966589</td>\n",
       "      <td>0.516398</td>\n",
       "    </tr>\n",
       "  </tbody>\n",
       "</table>\n",
       "</div>"
      ],
      "text/plain": [
       "                   Mean     Median   Variance  Standard deviation       SEM\n",
       "Drug Regimen                                                               \n",
       "Capomulin     40.675741  41.557809  24.947764            4.994774  0.329346\n",
       "Ceftamin      52.591172  51.776157  39.290177            6.268188  0.469821\n",
       "Infubinol     52.884795  51.820584  43.128684            6.567243  0.492236\n",
       "Ketapril      55.235638  53.698743  68.553577            8.279709  0.603860\n",
       "Naftisol      54.331565  52.509285  66.173479            8.134708  0.596466\n",
       "Placebo       54.033581  52.288934  61.168083            7.821003  0.581331\n",
       "Propriva      52.320930  50.446266  43.852013            6.622085  0.544332\n",
       "Ramicane      40.216745  40.673236  23.486704            4.846308  0.320955\n",
       "Stelasyn      54.233149  52.431737  59.450562            7.710419  0.573111\n",
       "Zoniferol     53.236507  51.818479  48.533355            6.966589  0.516398"
      ]
     },
     "execution_count": 9,
     "metadata": {},
     "output_type": "execute_result"
    }
   ],
   "source": [
    "summary_table = drug_regimen_gp['Tumour Volume (mm3)'].agg(['mean', 'median', 'var', 'std', 'sem'])\n",
    "summary_agg_df = summary_table.rename(columns={\n",
    "    'mean':'Mean',\n",
    "    'median': 'Median',\n",
    "    'var': 'Variance',\n",
    "    'std': 'Standard deviation',\n",
    "    'sem': 'SEM'\n",
    "})\n",
    "print('Method II')\n",
    "summary_agg_df"
   ]
  },
  {
   "cell_type": "markdown",
   "metadata": {},
   "source": [
    "## Bar and Pie Charts"
   ]
  },
  {
   "cell_type": "code",
   "execution_count": 10,
   "metadata": {},
   "outputs": [
    {
     "data": {
      "text/plain": [
       "Drug Regimen\n",
       "Capomulin    230\n",
       "Ramicane     228\n",
       "Ketapril     188\n",
       "Naftisol     186\n",
       "Zoniferol    182\n",
       "Placebo      181\n",
       "Stelasyn     181\n",
       "Ceftamin     178\n",
       "Infubinol    178\n",
       "Propriva     148\n",
       "Name: Mouse ID, dtype: int64"
      ]
     },
     "execution_count": 10,
     "metadata": {},
     "output_type": "execute_result"
    }
   ],
   "source": [
    "# Generate a bar plot showing the total number of timepoints for all mice tested for each drug regimen using Pandas.\n",
    "\n",
    "# Calculate number of mice per Drug Regimen\n",
    "no_mice_per_regimen = drug_regimen_gp['Mouse ID'].count().sort_values(ascending=False)\n",
    "no_mice_per_regimen\n"
   ]
  },
  {
   "cell_type": "code",
   "execution_count": 11,
   "metadata": {},
   "outputs": [
    {
     "data": {
      "image/png": "[encoded data removed]",
      "text/plain": [
       "<Figure size 432x288 with 1 Axes>"
      ]
     },
     "metadata": {
      "needs_background": "light"
     },
     "output_type": "display_data"
    }
   ],
   "source": [
    "# Generate a bar plot showing the total number of timepoints for all mice tested for each drug regimen using pyplot.\n",
    "# Generate a bar plot showing the total number of mice for each treatment \n",
    "pd_bar_mice_per_regimen = no_mice_per_regimen.plot(kind='bar', width=0.5)\n",
    "\n",
    "# Set x/y label, title\n",
    "pd_bar_mice_per_regimen.set_title(label='Total Number of Mice per Drug Regimen', fontweight = 'bold')\n",
    "pd_bar_mice_per_regimen.set_xlabel('Drug Regimen', fontweight = 'bold')\n",
    "pd_bar_mice_per_regimen.set_ylabel('Number of Mice', fontweight = 'bold')\n",
    "\n",
    "#Save the figure\n",
    "plt.savefig(\"TotalNumberofMiceperDrugRegimen.png\")\n",
    "# Present the bar chart\n",
    "plt.show()\n",
    "\n",
    "# To close pyplot\n",
    "plt.close()\n"
   ]
  },
  {
   "cell_type": "code",
   "execution_count": 12,
   "metadata": {
    "scrolled": true
   },
   "outputs": [
    {
     "data": {
      "image/png": "[encoded data removed]",
      "text/plain": [
       "<Figure size 432x288 with 1 Axes>"
      ]
     },
     "metadata": {
      "needs_background": "light"
     },
     "output_type": "display_data"
    }
   ],
   "source": [
    "# Generate a bar plot showing the total number of timepoints for all mice tested for each drug regimen using pyplot.\n",
    " \n",
    "# Set x axis\n",
    "x_axis_regimen = np.arange(len(no_mice_per_regimen))\n",
    "regimen_name = list(no_mice_per_regimen.index.values)\n",
    " \n",
    "# Create bar chart\n",
    "py_bar_mice_per_regimen = plt.bar(x_axis_regimen, no_mice_per_regimen, color='red', alpha=0.5, width=0.5)\n",
    "\n",
    "# Set x/y label, title\n",
    "plt.xticks(x_axis_regimen, regimen_name, rotation='vertical')\n",
    "plt.title('Total Number of Mice per Drug Regimen', fontweight = 'bold')\n",
    "plt.xlabel('Drug Regimen', fontweight = 'bold')\n",
    "plt.ylabel('Number of Mice', fontweight = 'bold')\n",
    "\n",
    "#Save the figure\n",
    "plt.savefig(\"TotalNumberofMiceperDrugRegimenpyplot.png\")\n",
    "# Present the bar chart\n",
    "plt.show()\n",
    "\n",
    "# To close pyplot\n",
    "plt.close()\n"
   ]
  },
  {
   "cell_type": "code",
   "execution_count": 13,
   "metadata": {},
   "outputs": [
    {
     "data": {
      "text/plain": [
       "Sex\n",
       "Female    922\n",
       "Male      958\n",
       "Name: Sex, dtype: int64"
      ]
     },
     "execution_count": 13,
     "metadata": {},
     "output_type": "execute_result"
    }
   ],
   "source": [
    "# Generate a pie plot showing the distribution of female versus male mice using Pandas\n",
    "# Calculate number of mice for each sex\n",
    "sex_mice = analysis_data_df.groupby('Sex')['Sex'].count()\n",
    "sex_mice"
   ]
  },
  {
   "cell_type": "code",
   "execution_count": 14,
   "metadata": {},
   "outputs": [
    {
     "data": {
      "image/png": "[encoded data removed]",
      "text/plain": [
       "<Figure size 432x288 with 1 Axes>"
      ]
     },
     "metadata": {},
     "output_type": "display_data"
    }
   ],
   "source": [
    "\n",
    "# Generate a pie chart using Pandas\n",
    "pd_pie_mice_sex = sex_mice.plot(kind='pie', autopct='%1.1f%%', startangle=140)\n",
    "\n",
    "# Create axes which are equal so we have a perfect circle\n",
    "plt.axis(\"equal\")\n",
    "\n",
    "# Set x/y label, title\n",
    "pd_pie_mice_sex.set_title(label='The distribution of Mice Sex', fontweight = 'bold')\n",
    "pd_pie_mice_sex.set_ylabel('Sex', fontweight = 'bold')\n",
    "\n",
    "#Save the figure\n",
    "plt.savefig(\"pd_pie_mice_sex.png\")\n",
    "\n",
    "# Present the bar chart\n",
    "plt.show()\n",
    "\n",
    "# To close pyplot\n",
    "plt.close()"
   ]
  },
  {
   "cell_type": "code",
   "execution_count": 15,
   "metadata": {},
   "outputs": [
    {
     "data": {
      "image/png": "[encoded data removed]",
      "text/plain": [
       "<Figure size 432x288 with 1 Axes>"
      ]
     },
     "metadata": {},
     "output_type": "display_data"
    }
   ],
   "source": [
    "# Generate a pie plot showing the distribution of female versus male mice using pyplot\n",
    "\n",
    "# Set x_axis and colors\n",
    "sex = sex_mice.index\n",
    "colors = ['lightskyblue','lightcoral']\n",
    "\n",
    "# Create pie chart\n",
    "py_bar_mice_sex = plt.pie(sex_mice, labels=sex_mice.index, autopct=\"%1.1f%%\", colors=colors, startangle=140)\n",
    "\n",
    "# Create axes which are equal so we have a perfect circle\n",
    "plt.axis(\"equal\")\n",
    "\n",
    "# Set x/y label, title\n",
    "plt.title('The distribution of Mice Sex', fontweight = 'bold')\n",
    "plt.ylabel('Sex', fontweight = 'bold')\n",
    "\n",
    "#Save the figure\n",
    "plt.savefig(\"pyplot_pie_mice_sex.png\")\n",
    "\n",
    "# Present the bar chart\n",
    "plt.show()\n",
    "\n",
    "# To close pyplot\n",
    "plt.close()"
   ]
  },
  {
   "cell_type": "markdown",
   "metadata": {},
   "source": [
    "## Quartiles, Outliers and Boxplots"
   ]
  },
  {
   "cell_type": "code",
   "execution_count": null,
   "metadata": {},
   "outputs": [],
   "source": [
    "# Calculate the final tumor volume of each mouse across four of the treatment regimens:  \n",
    "# Capomulin, Ramicane, Infubinol, and Ceftamin\n",
    "\n",
    "# Start by getting the last (greatest) timepoint for each mouse\n",
    "\n",
    "\n",
    "# Merge this group df with the original dataframe to get the tumour volume at the last timepoint\n"
   ]
  },
  {
   "cell_type": "code",
   "execution_count": 16,
   "metadata": {},
   "outputs": [
    {
     "name": "stdout",
     "output_type": "stream",
     "text": [
      "Capomulin Regimen\n",
      "Final tumour volume(mm3) for Capomulin below 20.7 could be outliers.\n",
      "Final tumour volume(mm3) for Capomulin above 51.83 could be outliers.\n",
      "Average tumour volume(mm3) for Capomulin is: 36.67\n",
      "Number of outliers for Capomulin is: 0\n",
      "----------------------------------------------------------\n",
      "Ramicane Regimen\n",
      "Final tumour volume(mm3) for Ramicane below 17.91 could be outliers.\n",
      "Final tumour volume(mm3) for Ramicane above 54.31 could be outliers.\n",
      "Average tumour volume(mm3) for Ramicane is: 36.19\n",
      "Number of outliers for Capomulin is: 0\n",
      "----------------------------------------------------------\n",
      "Infubinol Regimen\n",
      "Final tumour volume(mm3) for Infubinol below 36.83 could be outliers.\n",
      "Final tumour volume(mm3) for Infubinol above 82.74 could be outliers.\n",
      "Average tumour volume(mm3) for Infubinol is: 58.18\n",
      "Number of outliers for Capomulin is: 1\n",
      "Outlier final tumour volume(mm3) is 36.32\n",
      "----------------------------------------------------------\n",
      "Ceftamin Regimen\n",
      "Final tumour volume(mm3) for Ceftamin below 25.36 could be outliers.\n",
      "Final tumour volume(mm3) for Ceftamin above 87.67 could be outliers.\n",
      "Average tumour volume(mm3) for Ceftamin is: 57.75\n",
      "Number of outliers for Capomulin is: 0\n",
      "----------------------------------------------------------\n"
     ]
    }
   ],
   "source": [
    "# Calculate the final tumour volume of each mouse\n",
    "final_tumour_vol = analysis_data_df.groupby(['Drug Regimen', 'Mouse ID']).last()[['Timepoint', 'Tumour Volume (mm3)']]\n",
    "final_tumour_df = final_tumour_vol.reset_index()\n",
    "# Put treatments into a list for for loop (and later for plot labels)\n",
    "regimen = ['Capomulin', 'Ramicane', 'Infubinol', 'Ceftamin']\n",
    "\n",
    "# Create empty list to fill with tumour vol data (for plotting)\n",
    "final_tumour_vol_list = []\n",
    "\n",
    "# Calculate the IQR and quantitatively determine if there are any potential outliers.\n",
    "for drug in regimen:\n",
    "    \n",
    "    # Locate the rows which contain mice on each drug and get the tumour volumes\n",
    "    final_tumour_vol = final_tumour_df.loc[final_tumour_df['Drug Regimen'] == drug, 'Tumour Volume (mm3)']\n",
    "    \n",
    "    # add subset to tumour_vol_list \n",
    "    final_tumour_vol_list.append(final_tumour_vol)\n",
    "    \n",
    "    # Calculate the IQR and quantitatively\n",
    "    quartiles = final_tumour_vol.quantile([0.25,0.5,0.75])\n",
    "    lowerq = quartiles[0.25]\n",
    "    upperq = quartiles[0.75]\n",
    "    mean = final_tumour_vol.mean()\n",
    "    iqr = upperq-lowerq    \n",
    "    lower_bound = lowerq - (1.5*iqr)\n",
    "    upper_bound = upperq + (1.5*iqr)\n",
    "\n",
    "    # Determine outliers using upper and lower bounds\n",
    "    outliers = final_tumour_vol.loc[(final_tumour_vol < lower_bound) \n",
    "                  | (final_tumour_vol > upper_bound)]\n",
    "    \n",
    "    # Print out the result\n",
    "    print(f\"{drug} Regimen\")\n",
    "    print(f\"Final tumour volume(mm3) for {drug} below {round(lower_bound,2)} could be outliers.\")\n",
    "    print(f\"Final tumour volume(mm3) for {drug} above {round(upper_bound,2)} could be outliers.\")\n",
    "    print(f\"Average tumour volume(mm3) for {drug} is: {round(mean,2)}\")\n",
    "    print(f\"Number of outliers for Capomulin is: {outliers.count()}\")\n",
    "    if outliers.count() > 0:\n",
    "        for i in outliers.index:\n",
    "            print(f'Outlier final tumour volume(mm3) is {round(outliers[i], 2)}')\n",
    "    print('----------------------------------------------------------')"
   ]
  },
  {
   "cell_type": "code",
   "execution_count": 17,
   "metadata": {},
   "outputs": [
    {
     "data": {
      "image/png": "[encoded data removed]",
      "text/plain": [
       "<Figure size 432x288 with 1 Axes>"
      ]
     },
     "metadata": {
      "needs_background": "light"
     },
     "output_type": "display_data"
    }
   ],
   "source": [
    "# Generate a box plot of the final tumour volume of each mouse across four regimens of interest\n",
    "\n",
    "fig1, final_tumour_plot = plt.subplots()\n",
    "final_tumour_plot.boxplot(final_tumour_vol_list, labels=regimen, flierprops={'markerfacecolor':'r','markersize': 10})\n",
    "\n",
    "# Set x/y label, title\n",
    "final_tumour_plot.set_title('Final Tumour Volume \\n(Four Treatment Regimens)', fontweight='bold')\n",
    "final_tumour_plot.set_xlabel('Drug Regimen', fontweight='bold')\n",
    "final_tumour_plot.set_ylabel('Final Tumour Volume (mm3)', fontweight='bold')\n",
    "\n",
    "#Save the figure\n",
    "plt.savefig(\"final_tumor_boxplot.png\")\n",
    "\n",
    "# Present the box plot chart\n",
    "plt.show()\n",
    "\n",
    "# To close pyplot\n",
    "plt.close()"
   ]
  },
  {
   "cell_type": "markdown",
   "metadata": {},
   "source": [
    "## Line and Scatter Plots"
   ]
  },
  {
   "cell_type": "code",
   "execution_count": 18,
   "metadata": {
    "scrolled": true
   },
   "outputs": [
    {
     "data": {
      "image/png": "[encoded data removed]",
      "text/plain": [
       "<Figure size 432x288 with 1 Axes>"
      ]
     },
     "metadata": {
      "needs_background": "light"
     },
     "output_type": "display_data"
    }
   ],
   "source": [
    "# Generate a line plot of tumour volume vs. time point for a mouse treated with Capomulin\n",
    "# Generate dataframe only in Capomulin Regimen\n",
    "Capomulin_df = analysis_data_df.loc[analysis_data_df['Drug Regimen'] == 'Capomulin']\n",
    "\n",
    "# Identify specific mouse ID and get data of the mouse id\n",
    "mouse_id = 'l509'\n",
    "mouse_df = Capomulin_df.loc[Capomulin_df['Mouse ID'] == mouse_id]\n",
    "\n",
    "# Generate a line plot\n",
    "time_vol = plt.plot(mouse_df['Timepoint'], mouse_df['Tumour Volume (mm3)'], marker='*', color='#0B5345')\n",
    "\n",
    "# Set x/y label, title\n",
    "plt.title(f\"Mouse ID {mouse_id}'s Tumour Vol. in Capomulin Treatment\", fontweight='bold')\n",
    "plt.xlabel('Timepoint (Days)', fontweight='bold')\n",
    "plt.ylabel('Tumour Volume (mm3)', fontweight='bold')\n",
    "\n",
    "#Save the figure\n",
    "plt.savefig(\"tumor_plot.png\")\n",
    "\n",
    "# Present the box plot chart\n",
    "plt.show()\n",
    "\n",
    "# To close pyplot\n",
    "plt.close()\n"
   ]
  },
  {
   "cell_type": "code",
   "execution_count": 19,
   "metadata": {},
   "outputs": [
    {
     "data": {
      "image/png": "[encoded data removed]",
      "text/plain": [
       "<Figure size 432x288 with 1 Axes>"
      ]
     },
     "metadata": {
      "needs_background": "light"
     },
     "output_type": "display_data"
    }
   ],
   "source": [
    "# Identify specific mouse ID and get data of the mouse id\n",
    "mice_cap = Capomulin_df['Mouse ID'].unique()\n",
    "\n",
    "for mouse in mice_cap[0:5]:\n",
    "    mouse_cap_df = Capomulin_df.loc[Capomulin_df['Mouse ID'] == mouse]\n",
    "    # Generate a line plot\n",
    "    plt.plot(mouse_cap_df['Timepoint'], mouse_cap_df['Tumour Volume (mm3)'], marker='o')\n",
    "\n",
    "# Set x/y label, title\n",
    "plt.title(f\"Samples for Tumor Vol. in Capomulin Treatment\", fontweight='bold')\n",
    "plt.xlabel('Timepoint (Days)', fontweight='bold')\n",
    "plt.ylabel('Tumour Volume (mm3)', fontweight='bold')\n",
    "\n",
    "#Save the figure\n",
    "plt.savefig(\"tumorVol_plot.png\")\n",
    "\n",
    "# Present the box plot chart\n",
    "plt.show()\n",
    "\n",
    "# To close pyplot\n",
    "plt.close()"
   ]
  },
  {
   "cell_type": "code",
   "execution_count": 20,
   "metadata": {},
   "outputs": [
    {
     "data": {
      "image/png": "[encoded data removed]",
      "text/plain": [
       "<Figure size 432x288 with 1 Axes>"
      ]
     },
     "metadata": {
      "needs_background": "light"
     },
     "output_type": "display_data"
    }
   ],
   "source": [
    "# Generate a scatter plot of average tumour volume vs. mouse weight for the Capomulin regimen\n",
    "\n",
    "Capomulin_gp = Capomulin_df.groupby('Mouse ID').mean()\n",
    "mice_weight_avg = Capomulin_gp['Weight (g)']\n",
    "mice_tumor_avg = Capomulin_gp['Tumour Volume (mm3)']\n",
    "\n",
    "# Generate a scatter plot\n",
    "plt.scatter(mice_weight_avg, mice_tumor_avg)\n",
    "\n",
    "# Set x/y label, title\n",
    "plt.title('Weight vs Average Tumour Volume \\n(Capomulin regimen)', fontweight='bold')\n",
    "plt.xlabel('Weight (g)', fontweight='bold')\n",
    "plt.ylabel('Average Tumour Volume (mm3)', fontweight='bold')\n",
    "\n",
    "#Save the figure\n",
    "plt.savefig(\"scatter_weight_tumor.png\")\n",
    "\n",
    "# Present the box plot chart\n",
    "plt.show()\n",
    "\n",
    "# To close pyplot\n",
    "plt.close()"
   ]
  },
  {
   "cell_type": "markdown",
   "metadata": {},
   "source": [
    "## Correlation and Regression"
   ]
  },
  {
   "cell_type": "code",
   "execution_count": 21,
   "metadata": {},
   "outputs": [
    {
     "name": "stdout",
     "output_type": "stream",
     "text": [
      "The correlation between mouse weight and tumour vol is 0.84\n",
      "The r-squared is: 0.71\n"
     ]
    },
    {
     "data": {
      "image/png": "[encoded data removed]",
      "text/plain": [
       "<Figure size 432x288 with 1 Axes>"
      ]
     },
     "metadata": {
      "needs_background": "light"
     },
     "output_type": "display_data"
    }
   ],
   "source": [
    "# Calculate the correlation coefficient and linear regression model\n",
    "#for mouse weight and average tumour volume for the Capomulin regimen\n",
    "# Define x,y values\n",
    "x_values = mice_weight_avg\n",
    "y_values = mice_tumor_avg\n",
    "\n",
    "# Calculate the correlation\n",
    "correlation = round(st.pearsonr(x_values, y_values)[0],2)\n",
    "print(f\"The correlation between mouse weight and tumour vol is {correlation}\")\n",
    "\n",
    "# Calculate linear regression values\n",
    "(slope, intercept, rvalue, pvalue, stderr) = st.linregress(x_values, y_values)\n",
    "\n",
    "# Calculate r-squared\n",
    "r_squared = round(rvalue**2,2)\n",
    "print(f\"The r-squared is: {r_squared}\")\n",
    "\n",
    "# y = mx + b\n",
    "regress_values = x_values * slope + intercept\n",
    "line_eq = \"y = \" + str(round(slope,2)) + \"x + \" + str(round(intercept,2))\n",
    "\n",
    "# Gernerate scatter chart with liner regression line, equation of line, r-squared value\n",
    "plt.scatter(x_values,y_values)\n",
    "plt.plot(x_values,regress_values, color='r', alpha=0.7)\n",
    "\n",
    "# Plot the Annotation in the graph \n",
    "plt.annotate(line_eq,(20,37), fontsize=11, color=\"red\")\n",
    "plt.annotate(f'r-squared = {r_squared}', (20,36), fontsize=11, color=\"red\")\n",
    "\n",
    "# Define title and x/y labels\n",
    "plt.title('Weight vs Average Tumour Volume \\n(Capomulin regimen)', fontweight='bold')\n",
    "plt.xlabel('Weight (g)', fontweight='bold')\n",
    "plt.ylabel('Average Tumour Volume (mm3)', fontweight='bold')\n",
    "\n",
    "#Save the figure\n",
    "plt.savefig(\"scatter_weight_tumor_linear.png\")\n",
    "\n",
    "\n",
    "# Present the box plot chart\n",
    "plt.show()\n",
    "\n",
    "# To close pyplot\n",
    "plt.close()"
   ]
  },
  {
   "cell_type": "code",
   "execution_count": null,
   "metadata": {},
   "outputs": [],
   "source": []
  },
  {
   "cell_type": "code",
   "execution_count": null,
   "metadata": {},
   "outputs": [],
   "source": []
  }
 ],
 "metadata": {
  "anaconda-cloud": {},
  "kernelspec": {
   "display_name": "Python 3 (ipykernel)",
   "language": "python",
   "name": "python3"
  },
  "language_info": {
   "codemirror_mode": {
    "name": "ipython",
    "version": 3
   },
   "file_extension": ".py",
   "mimetype": "text/x-python",
   "name": "python",
   "nbconvert_exporter": "python",
   "pygments_lexer": "ipython3",
   "version": "3.9.12"
  }
 },
 "nbformat": 4,
 "nbformat_minor": 4
}
